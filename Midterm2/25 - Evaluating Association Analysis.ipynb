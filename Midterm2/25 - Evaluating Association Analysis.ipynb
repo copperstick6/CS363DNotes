{
 "cells": [
  {
   "cell_type": "markdown",
   "metadata": {},
   "source": [
    "### Support and Confidence"
   ]
  },
  {
   "cell_type": "markdown",
   "metadata": {},
   "source": [
    "Support - Fraction of transactions that contain both X and Y.   \n",
    "Confidence - Measures how often items in Y appear in transactions that contain X.   \n"
   ]
  },
  {
   "cell_type": "markdown",
   "metadata": {},
   "source": [
    "There are times when support and confidence are high but the rule produced is not good"
   ]
  },
  {
   "cell_type": "markdown",
   "metadata": {},
   "source": [
    "Lift: Measures the ratio of observed frequence of cooccurence to the expected frequency c(X->Y)/s(Y).    \n",
    "Lift of 1 means statistically independent, Lift $<$1 indicates a negative correlation\n",
    "\n",
    "Lift : N(XY)/(sumX, sum Y)"
   ]
  },
  {
   "cell_type": "markdown",
   "metadata": {},
   "source": [
    "Redundant rules: If they have the same consequent, the one with more stuff on the left is more specific, redundancy means that there exists a more general rule (less stuff on the left) if that rule has the same support"
   ]
  },
  {
   "cell_type": "markdown",
   "metadata": {},
   "source": [
    "Given two rules with the same consequent, an rule is productive if its improvement is greater than 0"
   ]
  }
 ],
 "metadata": {
  "kernelspec": {
   "display_name": "Python 3",
   "language": "python",
   "name": "python3"
  },
  "language_info": {
   "codemirror_mode": {
    "name": "ipython",
    "version": 3
   },
   "file_extension": ".py",
   "mimetype": "text/x-python",
   "name": "python",
   "nbconvert_exporter": "python",
   "pygments_lexer": "ipython3",
   "version": "3.6.2"
  }
 },
 "nbformat": 4,
 "nbformat_minor": 2
}
