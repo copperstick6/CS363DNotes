{
 "cells": [
  {
   "cell_type": "markdown",
   "metadata": {},
   "source": [
    "### Frequent Itemsets"
   ]
  },
  {
   "cell_type": "markdown",
   "metadata": {},
   "source": [
    "Frequent Itemsets meet minsup, frequent itemsets are maximal if it has no frequent supersets   \n",
    "Itemset is closed if it has no superset with the same support count"
   ]
  },
  {
   "cell_type": "markdown",
   "metadata": {},
   "source": [
    "### Maximal Frequent Itemset Algorithm"
   ]
  },
  {
   "cell_type": "markdown",
   "metadata": {},
   "source": [
    "1. Keep a list of maximal frequent itemsets\n",
    "2. Each time a frequent itemset is generated, perform the following checks: Is the frequent itemset a subset of anything in the maximal list, if it is, it is not maximal.  \n",
    "3. Otherwise check if it is a superset of anything in the maximal list, remove those that are subsets of this item"
   ]
  },
  {
   "cell_type": "markdown",
   "metadata": {},
   "source": [
    "### Closed Frequent Itemset Algorithm"
   ]
  },
  {
   "cell_type": "markdown",
   "metadata": {},
   "source": [
    "1. Keep a list of closed frequent itemsets\n",
    "2. Check if this item is a subset of another item, if it is and it has a higher support count, add to closed list, otherwise it is not closed\n",
    "3. If it is a superset of anything else, check if it has the same or higher support, if it is the same, remove subset from closed list, otherwise keep it"
   ]
  },
  {
   "cell_type": "markdown",
   "metadata": {},
   "source": [
    "Cross support pattern - itemset whose support ratio is below threshold (max of all supports)/(min of all supports)"
   ]
  }
 ],
 "metadata": {
  "kernelspec": {
   "display_name": "Python 3",
   "language": "python",
   "name": "python3"
  },
  "language_info": {
   "codemirror_mode": {
    "name": "ipython",
    "version": 3
   },
   "file_extension": ".py",
   "mimetype": "text/x-python",
   "name": "python",
   "nbconvert_exporter": "python",
   "pygments_lexer": "ipython3",
   "version": "3.6.2"
  }
 },
 "nbformat": 4,
 "nbformat_minor": 2
}
