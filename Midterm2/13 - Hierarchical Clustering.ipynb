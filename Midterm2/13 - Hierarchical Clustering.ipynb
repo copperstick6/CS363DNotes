{
 "cells": [
  {
   "cell_type": "markdown",
   "metadata": {},
   "source": [
    "### Hierarchical Clustering"
   ]
  },
  {
   "cell_type": "markdown",
   "metadata": {},
   "source": [
    "Produces a set of nested clusters organized as a hierarchical tree.  \n",
    "Agglomerative - start with points as individual clusters and merge the closest pair of clusters.    \n",
    "Divisive - Start with one all-inclusive cluster and split a cluster until only individual points remain"
   ]
  },
  {
   "cell_type": "markdown",
   "metadata": {},
   "source": [
    "### Definitions of proximity"
   ]
  },
  {
   "cell_type": "markdown",
   "metadata": {},
   "source": [
    "MIN/single link - proximity between closest two points in different clusters (find min between cluster points and the other point)    \n",
    "MAX/complete link - proximity between the farthest two points in different clusters (find max between cluster point and other point)    \n",
    "Group Average - the average pairwise proximities of all pairs of points from different clusters (average all of them as distance)    \n",
    "Centroid Method - proximity between cluster centroids (find distance between the centroid and the new point)    \n",
    "Ward's Method - increase in SSE that results from merging the two clusters"
   ]
  },
  {
   "cell_type": "markdown",
   "metadata": {},
   "source": [
    "### Characteristics of Hierarchical Clustering"
   ]
  },
  {
   "cell_type": "markdown",
   "metadata": {},
   "source": [
    "Good for data that has an underlying hierarchy    \n",
    "Expensive in both time and space     \n",
    "Difficult to choose best proximity measure     \n",
    "Ward's method is often used as a method of initializing K-means"
   ]
  }
 ],
 "metadata": {
  "kernelspec": {
   "display_name": "Python 3",
   "language": "python",
   "name": "python3"
  },
  "language_info": {
   "codemirror_mode": {
    "name": "ipython",
    "version": 3
   },
   "file_extension": ".py",
   "mimetype": "text/x-python",
   "name": "python",
   "nbconvert_exporter": "python",
   "pygments_lexer": "ipython3",
   "version": "3.6.2"
  }
 },
 "nbformat": 4,
 "nbformat_minor": 2
}
