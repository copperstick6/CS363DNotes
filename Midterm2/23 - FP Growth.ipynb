{
 "cells": [
  {
   "cell_type": "markdown",
   "metadata": {},
   "source": [
    "### Mining Frequent Patterns"
   ]
  },
  {
   "cell_type": "markdown",
   "metadata": {},
   "source": [
    "Generate and test strategy of Apriori results in large memory requirements, repeated scans, and long pattern matches, one way to reduce this is through FP-tree"
   ]
  },
  {
   "cell_type": "markdown",
   "metadata": {},
   "source": [
    "### FP-trees"
   ]
  },
  {
   "cell_type": "markdown",
   "metadata": {},
   "source": [
    "Indexes data via a prefix tree   \n",
    "Each node is a single item that stores the support count of the itemset with the items on the path from the root to the node   \n",
    "For each transaction, the item is inserted into the FP-tree, and increases the count of all nodes with the common prefix path and creates new nodes past the common prefix.   \n",
    "Items sorted in decreasing support order so most frequent items are at the top of the tree"
   ]
  },
  {
   "cell_type": "markdown",
   "metadata": {},
   "source": [
    "### Algorithm"
   ]
  },
  {
   "cell_type": "markdown",
   "metadata": {},
   "source": [
    "1. Make scan of data to get support counts of individual items\n",
    "2. Make second scan of data to construct FP tree\n",
    "3. Find frequent itemsets from FP-tree using recursion"
   ]
  }
 ],
 "metadata": {
  "kernelspec": {
   "display_name": "Python 3",
   "language": "python",
   "name": "python3"
  },
  "language_info": {
   "codemirror_mode": {
    "name": "ipython",
    "version": 3
   },
   "file_extension": ".py",
   "mimetype": "text/x-python",
   "name": "python",
   "nbconvert_exporter": "python",
   "pygments_lexer": "ipython3",
   "version": "3.6.2"
  }
 },
 "nbformat": 4,
 "nbformat_minor": 2
}
