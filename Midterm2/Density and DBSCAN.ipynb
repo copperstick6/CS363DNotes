{
 "cells": [
  {
   "cell_type": "markdown",
   "metadata": {},
   "source": [
    "### Density based clustering"
   ]
  },
  {
   "cell_type": "markdown",
   "metadata": {},
   "source": [
    "Locates regions of high density that are separated by regions of low density.  \n",
    "Center-based density - density is estimated for a particular point in the data set by counting the number of points within the specified radius of that point   \n",
    "Core points - points within the dense region. If the number of points nearby the point exceeds a certain threshold, it is a core point.  \n",
    "Border points - points on the edge of a dense region - not a core point but within the neighborhood of core points.   \n",
    "Noise points - points in sparse regions"
   ]
  },
  {
   "cell_type": "markdown",
   "metadata": {},
   "source": [
    "### DBSCAN"
   ]
  },
  {
   "cell_type": "markdown",
   "metadata": {},
   "source": [
    "Classify all points as core, border, or noise, eliminate noise points.  \n",
    "Any two core points within the neighborhood of each other are in the same cluster, any border point within the neighborhood of core point is in the same cluster of that core point"
   ]
  },
  {
   "cell_type": "markdown",
   "metadata": {},
   "source": [
    "k-dist: distance from each point to its kth nearest neighbor   \n",
    "Select some K, calculate k-dist for all data points, sort in increasing order.  \n",
    "There will be a sharp change of the value of k-dist that corresponds to be a suitable value of EP. Choose this distance to be EPs and k to be MinPts."
   ]
  },
  {
   "cell_type": "markdown",
   "metadata": {},
   "source": [
    "### Characteristics"
   ]
  },
  {
   "cell_type": "markdown",
   "metadata": {},
   "source": [
    "Can handle clusters of arbitrary shapes and sizes, resistant to noise and outliers.    \n",
    "Can have trouble if density of clusters changes too much.  \n",
    "Susceptible to curse of dimensionality"
   ]
  }
 ],
 "metadata": {
  "kernelspec": {
   "display_name": "Python 3",
   "language": "python",
   "name": "python3"
  },
  "language_info": {
   "codemirror_mode": {
    "name": "ipython",
    "version": 3
   },
   "file_extension": ".py",
   "mimetype": "text/x-python",
   "name": "python",
   "nbconvert_exporter": "python",
   "pygments_lexer": "ipython3",
   "version": "3.6.2"
  }
 },
 "nbformat": 4,
 "nbformat_minor": 2
}
