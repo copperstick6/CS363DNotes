{
 "cells": [
  {
   "cell_type": "markdown",
   "metadata": {},
   "source": [
    "### Assocation Analysis"
   ]
  },
  {
   "cell_type": "markdown",
   "metadata": {},
   "source": [
    "Given a set of transactions, find rules that will predict the occurence of an item "
   ]
  },
  {
   "cell_type": "markdown",
   "metadata": {},
   "source": [
    "Association: implication expression of the form X->Y where both are disjoint item sets    \n",
    "Support: fraction of transactions that contain both X and Y.    \n",
    "Confidence: measures how often Y appears in transactions that contain X"
   ]
  },
  {
   "cell_type": "markdown",
   "metadata": {},
   "source": [
    "Given the transactions T, the goal is to find all rules in which support > minsup and confidence > minconf "
   ]
  },
  {
   "cell_type": "markdown",
   "metadata": {},
   "source": [
    "Frequent Itemset generation - find all itemsets that satisfy minsup, Strong rule generation - find all rules in the frequent itemsets that satisfy minconf"
   ]
  },
  {
   "cell_type": "markdown",
   "metadata": {},
   "source": [
    "Apriori Principle - if an itemset is frequent, then all subsets must also be frequent, if an item is infrequent, its supersets must also be infrequent.   \n",
    "Support of an itemset never exceeds support of its subsets"
   ]
  },
  {
   "cell_type": "markdown",
   "metadata": {},
   "source": [
    "### Apriori Algorithm"
   ]
  },
  {
   "cell_type": "markdown",
   "metadata": {},
   "source": [
    "1. Initially, every item is considered as a candidate 1-itemset, anything below minsup is discarded\n",
    "2. Candidate k+1 itemsets are generated from the frequent k-itemsets, anything below minsup is discarded \n",
    "3. Repeat until no additional frequent itemsets are found"
   ]
  },
  {
   "cell_type": "markdown",
   "metadata": {},
   "source": [
    "### Fk-1 x F1 Method"
   ]
  },
  {
   "cell_type": "markdown",
   "metadata": {},
   "source": [
    "Candidate Generation:    \n",
    "Items in each frequent itemset must be sorted, extend each k-1 itemset with a frequent 1 itemset that is lexicographically larger than the items already in k-1 itemset     \n",
    "Apriori Pruning:    \n",
    "Need to check generated candidates for infrequent itemsets and prune them, can use heuristic: for each frequent k-itemset every item in the set must contain k-1 of the frequent k-1 itemsets"
   ]
  },
  {
   "cell_type": "markdown",
   "metadata": {},
   "source": [
    "Fk-1 x Fk-1 Method"
   ]
  },
  {
   "cell_type": "markdown",
   "metadata": {},
   "source": [
    "Candidate Generation:   \n",
    "Items in each frequent itemset must be sorted, merge pairs of k-1 itemsets if all but their last item are the same.   \n",
    "Apriori Pruning:   \n",
    "Need to check generated candidates for infrequent itemsets and prune them, if any k-1 subset is not a frequent itemset, the candidate is pruned"
   ]
  },
  {
   "cell_type": "markdown",
   "metadata": {},
   "source": [
    "### Apriori Rule Generation"
   ]
  },
  {
   "cell_type": "markdown",
   "metadata": {},
   "source": [
    "All non-empty subsets of every frequent itemset are enumerated and a rule is generated and tested against minconf    \n",
    "Confidence of rules generated from same itemset have antimonotone property (ABC -> D > AB -> CD etc etc), does not apply to rules not generated from same itemset"
   ]
  },
  {
   "cell_type": "markdown",
   "metadata": {},
   "source": [
    "### Rule Generation Alforithm"
   ]
  },
  {
   "cell_type": "markdown",
   "metadata": {},
   "source": [
    "Apriori uses a level-wise approach for generating association rules, all high "
   ]
  },
  {
   "cell_type": "markdown",
   "metadata": {},
   "source": []
  },
  {
   "cell_type": "markdown",
   "metadata": {},
   "source": []
  },
  {
   "cell_type": "markdown",
   "metadata": {},
   "source": []
  }
 ],
 "metadata": {
  "kernelspec": {
   "display_name": "Python 3",
   "language": "python",
   "name": "python3"
  },
  "language_info": {
   "codemirror_mode": {
    "name": "ipython",
    "version": 3
   },
   "file_extension": ".py",
   "mimetype": "text/x-python",
   "name": "python",
   "nbconvert_exporter": "python",
   "pygments_lexer": "ipython3",
   "version": "3.6.2"
  }
 },
 "nbformat": 4,
 "nbformat_minor": 2
}
