{
 "cells": [
  {
   "cell_type": "markdown",
   "metadata": {},
   "source": [
    "### Types of sequential data"
   ]
  },
  {
   "cell_type": "markdown",
   "metadata": {},
   "source": [
    "Sequential data: order matters but there is no timestamp    \n",
    "Time-series data: timestamp is added to items in sequence"
   ]
  },
  {
   "cell_type": "markdown",
   "metadata": {},
   "source": [
    "Subsequence - if another sequence exists within the original sequence (can have gaps).  \n",
    "Substring - cannot have gaps"
   ]
  },
  {
   "cell_type": "markdown",
   "metadata": {},
   "source": [
    "### GSP"
   ]
  },
  {
   "cell_type": "markdown",
   "metadata": {},
   "source": [
    "Apriori based BFS, given the set of frequent sequences at level k, generate k+1 sequences, prunes based on apriori principle (all subsequences of frequent sequence must be frequent)"
   ]
  },
  {
   "cell_type": "markdown",
   "metadata": {},
   "source": [
    "1. Make first pass to yield frequent 1-subsequences\n",
    "2. Repeat the following until no new frequent sequences are found\n",
    "3. Candidate Generation: Merge pairs of frequent subsequences found in k-1th pass to generate candidate sequences that contain k items\n",
    "4. Prune candidate k sequences with infrequent k-1 subsequences\n",
    "5. Make a new pass to find the support for these new sequences\n",
    "6. Eliminate candidate k-sequences whose actual support is less than minsup"
   ]
  },
  {
   "cell_type": "markdown",
   "metadata": {},
   "source": [
    "### Time series constraints"
   ]
  },
  {
   "cell_type": "markdown",
   "metadata": {},
   "source": [
    "Maxspan - maximum allowed time span of the entire sequence    \n",
    "Maxgap - Maximum allowed time span between two elements of the sequence.    \n",
    "Mingap - Minimum allowed time span between two elements of the sequence"
   ]
  },
  {
   "cell_type": "markdown",
   "metadata": {},
   "source": [
    "### Support Counting Alternative"
   ]
  },
  {
   "cell_type": "markdown",
   "metadata": {},
   "source": [
    "COBJ - One occurence per object.   \n",
    "CWIN - One occurence per sliding windoe of size maxspan    \n",
    "CMINWIN - Number of minimal windows of occurences.   \n",
    "CDIST_O - distinct occurences within maxspan with the possibility of event-timestamp overlap.    \n",
    "CDIST - distinct occurences within maxspan with no event-timestamp overlap allowed"
   ]
  }
 ],
 "metadata": {
  "kernelspec": {
   "display_name": "Python 3",
   "language": "python",
   "name": "python3"
  },
  "language_info": {
   "codemirror_mode": {
    "name": "ipython",
    "version": 3
   },
   "file_extension": ".py",
   "mimetype": "text/x-python",
   "name": "python",
   "nbconvert_exporter": "python",
   "pygments_lexer": "ipython3",
   "version": "3.6.2"
  }
 },
 "nbformat": 4,
 "nbformat_minor": 2
}
