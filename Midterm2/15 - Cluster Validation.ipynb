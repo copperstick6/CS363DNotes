{
 "cells": [
  {
   "cell_type": "markdown",
   "metadata": {},
   "source": [
    "### Cluster Validation"
   ]
  },
  {
   "cell_type": "markdown",
   "metadata": {},
   "source": [
    "Every clustering algorithm will generate clusters even if none exists"
   ]
  },
  {
   "cell_type": "markdown",
   "metadata": {},
   "source": [
    "### Hopkins Statistic"
   ]
  },
  {
   "cell_type": "markdown",
   "metadata": {},
   "source": [
    "Generate m points that are randomly distributed across the data space, and sample m actual data points from data set. From both sets of points, find the distance to the neighbor in the original data set."
   ]
  },
  {
   "cell_type": "markdown",
   "metadata": {},
   "source": [
    "### Similarity Matrix"
   ]
  },
  {
   "cell_type": "markdown",
   "metadata": {},
   "source": [
    "Fill matrix with a measure of similarity, like Euclidian distance"
   ]
  },
  {
   "cell_type": "markdown",
   "metadata": {},
   "source": [
    "### Internal Measures"
   ]
  },
  {
   "cell_type": "markdown",
   "metadata": {},
   "source": [
    "Unsupervised validation - measures the goodness of a clustering using information present in the dataset"
   ]
  },
  {
   "cell_type": "markdown",
   "metadata": {},
   "source": [
    "Cluster Cohesion - measures how closely objects are in the cluster    \n",
    "Cluster Separation - measures how distinct a cluster is from other clusters"
   ]
  },
  {
   "cell_type": "markdown",
   "metadata": {},
   "source": [
    "### Silhouette Coefficient"
   ]
  },
  {
   "cell_type": "markdown",
   "metadata": {},
   "source": [
    "Combines both cohesion and separation.   \n",
    "For each point:\n",
    "1. Calculate its average distance to all other objects in its cluster (a)\n",
    "2. Calculate its average distance to all other objects in a different cluster. Do this for each different cluster and find the min (b)\n",
    "3. The silhouette coefficient for the data point is (b-a)/max(a,b)      \n",
    "\n",
    "Can compute the average by averaging all data points across the cluster"
   ]
  },
  {
   "cell_type": "markdown",
   "metadata": {},
   "source": [
    "### Cophenetic Distance "
   ]
  },
  {
   "cell_type": "markdown",
   "metadata": {},
   "source": [
    "used to evaluate hierarchical clustering, is the proximity at which the agglomerative clustering put them in the same cluster"
   ]
  },
  {
   "cell_type": "markdown",
   "metadata": {},
   "source": [
    "### CPCC (Cophenetic Correlation Coefficient)"
   ]
  },
  {
   "cell_type": "markdown",
   "metadata": {},
   "source": [
    "Correlation between cophenetic distance matrix and proximity matrix of original data points"
   ]
  },
  {
   "cell_type": "markdown",
   "metadata": {},
   "source": [
    "### External Measures"
   ]
  },
  {
   "cell_type": "markdown",
   "metadata": {},
   "source": [
    "Supervised Cluster Validation - if we have external information about class labels, we can measure cluster lables against class lables (impurity/precision/recall/f-measure)"
   ]
  },
  {
   "cell_type": "markdown",
   "metadata": {},
   "source": [
    "### Cluster Validation Summary"
   ]
  },
  {
   "cell_type": "markdown",
   "metadata": {},
   "source": [
    "Clustering Tendency - determing whether a non-random structure exists in the data.    \n",
    "Internal Validation - Evaluate how well the results of the cluster fit the data without reference to external information.    \n",
    "External Validation - Evaluate how well the results of the cluster fit the data with reference to external information.    \n",
    "Relative Cluster Validation - Comparing two sets of clusters to detemine which is better"
   ]
  }
 ],
 "metadata": {
  "kernelspec": {
   "display_name": "Python 3",
   "language": "python",
   "name": "python3"
  },
  "language_info": {
   "codemirror_mode": {
    "name": "ipython",
    "version": 3
   },
   "file_extension": ".py",
   "mimetype": "text/x-python",
   "name": "python",
   "nbconvert_exporter": "python",
   "pygments_lexer": "ipython3",
   "version": "3.6.2"
  }
 },
 "nbformat": 4,
 "nbformat_minor": 2
}
