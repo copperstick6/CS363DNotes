{
 "cells": [
  {
   "cell_type": "markdown",
   "metadata": {},
   "source": [
    "# Nearest Neighbor classifiers"
   ]
  },
  {
   "cell_type": "markdown",
   "metadata": {},
   "source": [
    "Eager learner - model input attributes to a class label as soon as training data is available    \n",
    "Lazy learner - delay process of generalizing training data until it is needed to classify test examples"
   ]
  },
  {
   "cell_type": "markdown",
   "metadata": {},
   "source": [
    "Nearest neighbor - find all training examples similar to the current record to classify it   "
   ]
  },
  {
   "cell_type": "markdown",
   "metadata": {},
   "source": [
    "KNN - given a set of records, find the k nearest points and then classify based on the majority class label. Calculating distance is done using euclidian distance    \n",
    "Weight factor is 1/d^2. Calculate the class lavel with the highest weight factor"
   ]
  },
  {
   "cell_type": "markdown",
   "metadata": {},
   "source": [
    "If k is too small, sensitive to noise, k too large -> include points of other classes"
   ]
  },
  {
   "cell_type": "markdown",
   "metadata": {},
   "source": [
    "Use cross-validation set to choose best k"
   ]
  },
  {
   "cell_type": "markdown",
   "metadata": {},
   "source": [
    "## RNN"
   ]
  },
  {
   "cell_type": "markdown",
   "metadata": {},
   "source": [
    "Reduced Nearest Neighbor- Create a subset of the training set. If removing the record does not cause any other record to bemisclassified, then permanently remove it."
   ]
  },
  {
   "cell_type": "markdown",
   "metadata": {},
   "source": [
    "KNN uses instance-based learning (specific instances are used to make predictions)   \n",
    "Can suffer if there is a class imbalance, but weighing votes can help    \n",
    "Curse of dimensionality - KNN breaks down in high dimensions   \n",
    "Feature selection is critical"
   ]
  }
 ],
 "metadata": {
  "kernelspec": {
   "display_name": "Python 3",
   "language": "python",
   "name": "python3"
  },
  "language_info": {
   "codemirror_mode": {
    "name": "ipython",
    "version": 3
   },
   "file_extension": ".py",
   "mimetype": "text/x-python",
   "name": "python",
   "nbconvert_exporter": "python",
   "pygments_lexer": "ipython3",
   "version": "3.6.5"
  }
 },
 "nbformat": 4,
 "nbformat_minor": 2
}
