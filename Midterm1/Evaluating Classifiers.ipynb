{
 "cells": [
  {
   "cell_type": "markdown",
   "metadata": {},
   "source": [
    "## Evaluating Classifiers"
   ]
  },
  {
   "cell_type": "markdown",
   "metadata": {},
   "source": [
    "Error rate - fraction of incorrect predictions on the testing set   \n",
    "accuracy - fraction of correct predictions on the testing set"
   ]
  },
  {
   "cell_type": "markdown",
   "metadata": {},
   "source": [
    "### Classification Matrix"
   ]
  },
  {
   "cell_type": "markdown",
   "metadata": {},
   "source": [
    "True Positive Rate TPR (sensitivity): fraction of positive samples correctly predicted (TP/(TP+FN))   \n",
    "True Negative Rate TNR (specificity): fracton of negative samples correctlyy predicted (TN/FP+TN))    \n",
    "False positive rate: Fraction of negative samples predicted as positive (FP/(FP+TN))   \n",
    "False negative rate: Fraction of positive samples predicted as negative (FN/(TP+FN))   \n",
    "Error rate: fraction of mistakes (FP+FN)/n    \n",
    "Accuracy: Fraction of correct predictions (TP+TN)/n"
   ]
  },
  {
   "cell_type": "markdown",
   "metadata": {},
   "source": [
    "Precision: TP/(TP+FP)   \n",
    "recall: TP/(TP+FN)   \n",
    "F-measure summarizes precision and recall into one metric - 2$*$precision$*$recall/(precision+recall)"
   ]
  },
  {
   "cell_type": "markdown",
   "metadata": {},
   "source": [
    "Mitigating class imbalancing can be done use sampling based approaches (undersampling or oversampling)"
   ]
  },
  {
   "cell_type": "markdown",
   "metadata": {},
   "source": [
    "SMOTE (Synthetic minority oversampling technique) - for each minority instance C, find its nearest neighborN. Create a new minority class instance using C's features and the diference between C and N's features multiplied by a random variable: R.features = C.features +(C.features - N.features)$*$rand(0,1)"
   ]
  },
  {
   "cell_type": "markdown",
   "metadata": {},
   "source": [
    "Cost matrix can encode a penalty for misclassification errors"
   ]
  },
  {
   "cell_type": "markdown",
   "metadata": {},
   "source": [
    "Lower error, better F-score, but higher cost"
   ]
  }
 ],
 "metadata": {
  "kernelspec": {
   "display_name": "Python 3",
   "language": "python",
   "name": "python3"
  },
  "language_info": {
   "codemirror_mode": {
    "name": "ipython",
    "version": 3
   },
   "file_extension": ".py",
   "mimetype": "text/x-python",
   "name": "python",
   "nbconvert_exporter": "python",
   "pygments_lexer": "ipython3",
   "version": "3.6.5"
  }
 },
 "nbformat": 4,
 "nbformat_minor": 2
}
