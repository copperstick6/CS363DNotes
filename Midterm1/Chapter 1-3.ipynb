{
 "cells": [
  {
   "cell_type": "markdown",
   "metadata": {},
   "source": [
    "# Chapter 1"
   ]
  },
  {
   "cell_type": "markdown",
   "metadata": {},
   "source": [
    "## What is data mining?"
   ]
  },
  {
   "cell_type": "markdown",
   "metadata": {},
   "source": [
    "Data mining is the process of discovering useful information in large data repositories. It can be used to find patterns that might otherwise remain unknown, which can then be used to predict the outcome of future observations"
   ]
  },
  {
   "cell_type": "markdown",
   "metadata": {},
   "source": [
    "Knowledge discovery in databases (KDD) - process of converting raw data into useful information (input data -> data preprocessing -> data mining -> post processing -> information)"
   ]
  },
  {
   "cell_type": "markdown",
   "metadata": {},
   "source": [
    "Preprocessing - transform raw input data into appropriate format for subsequent analysis.     \n",
    "Postprocessing - making sure that valid and useful results are used from the raw processed data"
   ]
  },
  {
   "cell_type": "markdown",
   "metadata": {},
   "source": [
    "## Data Mining challenges"
   ]
  },
  {
   "cell_type": "markdown",
   "metadata": {},
   "source": [
    "Scalability - the larger the data set, the more scalable the algorithm must be in order to handle more and more algorithmically difficult problems    \n",
    "High Dimensionality - It is common to encounter data sets with large numbers of attributes     \n",
    "Heterogeneous and complex data - Data that is more complex than continuous or binary data types    "
   ]
  },
  {
   "cell_type": "markdown",
   "metadata": {},
   "source": [
    "## Data Mining Tasks"
   ]
  },
  {
   "cell_type": "markdown",
   "metadata": {},
   "source": [
    "Predictive tasks - predict value of attribute based on values of other attributes    \n",
    "Descriptive tasks - derive patterns that summarize relationships in data. \n",
    "Predictive modeling - building a model for the target variable as a function of explanatory variables. 2 types: classification, used for discrete variables, regression used for continuous target variables.  \n",
    "Association analysis - used to discover patterns that describe strongly associated features in the data.   \n",
    "Cluster analysis - seeks to find groups of closely related observations that belong to the same group   \n",
    "Anomaly detection - identifying observations whose characteristics are different from the rest of the data"
   ]
  },
  {
   "cell_type": "markdown",
   "metadata": {},
   "source": [
    "# Chapter 2"
   ]
  },
  {
   "cell_type": "markdown",
   "metadata": {},
   "source": [
    "Attribute is a property or characteristic of an object that may vary from one object ot another or from one time or another. Two types: discrete - countable set of values, continuous- values are real numbers"
   ]
  },
  {
   "cell_type": "markdown",
   "metadata": {},
   "source": [
    "### Data Quality"
   ]
  },
  {
   "cell_type": "markdown",
   "metadata": {},
   "source": [
    "Data cleaning - detection and correction of data quality problems   \n",
    "Measurement error - problems resulting from measurement process    \n",
    "data collection error - errors with omitting data objects or attribute values    \n",
    "Noise is the random component of a measurement error. Elimination of noise is quite difficult.    \n",
    "Data errors that are the result of more deterministic phenomenon are called artifacts.    \n",
    "Outliers - objects that have characteristics different from ther data objects in data set or have values of an attribute that are unusual."
   ]
  },
  {
   "cell_type": "markdown",
   "metadata": {},
   "source": [
    "### Missing Values"
   ]
  },
  {
   "cell_type": "markdown",
   "metadata": {},
   "source": [
    "It's not unusual for an object to be missing 1+ attribute values.    \n",
    "Strategies:\n",
    "1. Eliminate data objects or attributes\n",
    "2. Eliminate missing values\n",
    "3. Ignore missing values during analyysis"
   ]
  },
  {
   "cell_type": "markdown",
   "metadata": {},
   "source": [
    "### Univariate Analysis (Continuous)"
   ]
  },
  {
   "cell_type": "markdown",
   "metadata": {},
   "source": [
    "Measures a single variable, can measure range, variance, stddev, quartiles, etc.   \n",
    "Common methods are distributions and box plots & quartiles"
   ]
  },
  {
   "cell_type": "markdown",
   "metadata": {},
   "source": [
    "### Univariate Analysis (Categorical)"
   ]
  },
  {
   "cell_type": "markdown",
   "metadata": {},
   "source": [
    "Measures a variable that can be split into categories, done with frequency table, bar chart, and pie chart"
   ]
  },
  {
   "cell_type": "markdown",
   "metadata": {},
   "source": [
    "### Bivariate Analysis (Continuous & Continuous)"
   ]
  },
  {
   "cell_type": "markdown",
   "metadata": {},
   "source": [
    "Done with scatter plot and can use the correlation coefficient"
   ]
  },
  {
   "cell_type": "markdown",
   "metadata": {},
   "source": [
    "### Bivariate Analysis (Categorical & Categorical)"
   ]
  },
  {
   "cell_type": "markdown",
   "metadata": {},
   "source": [
    "Chi squared test detemines whether two categorical variables are independent or not. Can use a two way table or stacked column chart to display data"
   ]
  },
  {
   "cell_type": "markdown",
   "metadata": {},
   "source": [
    "### Bivariate Analysis (Categorical & Continuous)"
   ]
  },
  {
   "cell_type": "markdown",
   "metadata": {},
   "source": [
    "Box plots and z-test to check if the difference is statistically different"
   ]
  },
  {
   "cell_type": "markdown",
   "metadata": {},
   "source": [
    "## Data Preprocessing"
   ]
  },
  {
   "cell_type": "markdown",
   "metadata": {},
   "source": [
    "Aggregation - combining two or more objects into a single object   \n",
    "Sampling - selecting a subset of objects to be analyzed. A sample is representative if it has approximately the same property as the original set of data."
   ]
  },
  {
   "cell_type": "markdown",
   "metadata": {},
   "source": [
    "## Feature Engineering"
   ]
  },
  {
   "cell_type": "markdown",
   "metadata": {},
   "source": [
    "Creating new features from data you have    \n",
    "Feature transformation - if a data relationship looks like something that exists, transform it to be like it  \n",
    "Feature scaling - normalization (scale data to 0-1)  \n",
    "Standardization - rescale data to have a mean of 0 and a stddev of 1"
   ]
  },
  {
   "cell_type": "markdown",
   "metadata": {},
   "source": [
    "### Dimensionality"
   ]
  },
  {
   "cell_type": "markdown",
   "metadata": {},
   "source": [
    "Dimensionality - number of attributes in data set    \n",
    "Curse of dimensionality - data analysis is harder as dimensionalty increases (as dimensionaltyy increases, data becomes increasingly sparse in the space it occupies)   \n",
    "Dimensionality reduction - process of reducing number of variables through either feature selection or feature extraction"
   ]
  },
  {
   "cell_type": "markdown",
   "metadata": {},
   "source": [
    "### Feature Extraction"
   ]
  },
  {
   "cell_type": "markdown",
   "metadata": {},
   "source": [
    "Techniques to project data to a lower dimensional space   \n",
    "PCA (Principle Components Analysis)- Linalg technique for continuous attributes that finds new attributes (identifies best hyperplane to project data on)"
   ]
  },
  {
   "cell_type": "markdown",
   "metadata": {},
   "source": [
    "### Feature Selection"
   ]
  },
  {
   "cell_type": "markdown",
   "metadata": {},
   "source": [
    "Embedded approaches - sometimes occurs naturally as a part of the algorithm   \n",
    "Filter approaches - features are selected before the algorithm is run    \n",
    "Wrapper approaches - methods use target algorithm as a black box to find best subset of attributes"
   ]
  }
 ],
 "metadata": {
  "kernelspec": {
   "display_name": "Python 3",
   "language": "python",
   "name": "python3"
  },
  "language_info": {
   "codemirror_mode": {
    "name": "ipython",
    "version": 3
   },
   "file_extension": ".py",
   "mimetype": "text/x-python",
   "name": "python",
   "nbconvert_exporter": "python",
   "pygments_lexer": "ipython3",
   "version": "3.6.5"
  }
 },
 "nbformat": 4,
 "nbformat_minor": 2
}
