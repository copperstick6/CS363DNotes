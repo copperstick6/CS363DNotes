{
 "cells": [
  {
   "cell_type": "markdown",
   "metadata": {},
   "source": [
    "## Ensemble Methods"
   ]
  },
  {
   "cell_type": "markdown",
   "metadata": {},
   "source": [
    "Improve classification accuracy by aggregating prediction of multiple classifiers.   \n",
    "Construct a set of base classifiers and perform classificaion by taking a vote on predictions made by each classifier. Ensemble will incorrectly predict if more than half of the classifiers predict incorrectly"
   ]
  },
  {
   "cell_type": "markdown",
   "metadata": {},
   "source": [
    "An ensemble classifier will perform better than a single classifier if all base classifiers perform better than 50%. All base classifiers must be independent"
   ]
  },
  {
   "cell_type": "markdown",
   "metadata": {},
   "source": [
    "Bagging - Bootstrap aggregating - Using bootstrap sampling method to train base classifiers"
   ]
  },
  {
   "cell_type": "markdown",
   "metadata": {},
   "source": [
    "Random forests - extension of bagged decision trees   \n",
    "Forest RI- randomly select a subset of input features for candidate splits instead of examining all possible features"
   ]
  },
  {
   "cell_type": "markdown",
   "metadata": {},
   "source": [
    "Boosting - iteratively change the destribution of training examples so base classifiers will focus on hard to classify examples (assign a weight to each example and update that weight after each boosting round)"
   ]
  },
  {
   "cell_type": "markdown",
   "metadata": {},
   "source": [
    "Multiclass partitioning - can be used when there is a large number of classes\n",
    "1. partition classes into two subses\n",
    "2. relabel training examples to train a base classifier\n",
    "3. repeat random partitioning and relabeling to train multiple base models\n",
    "4. When a test example is presented, classifier predicts A0 or A1, if A0 is predicted, all classes in A0 get a vote, repeat for each base classifier\n",
    "5. all votes are tallied and highest wins"
   ]
  },
  {
   "cell_type": "markdown",
   "metadata": {},
   "source": [
    "Stacking - make multiple classifiers of different types, use prediction of base classifier as additional features into stacked classifier"
   ]
  }
 ],
 "metadata": {
  "kernelspec": {
   "display_name": "Python 3",
   "language": "python",
   "name": "python3"
  },
  "language_info": {
   "codemirror_mode": {
    "name": "ipython",
    "version": 3
   },
   "file_extension": ".py",
   "mimetype": "text/x-python",
   "name": "python",
   "nbconvert_exporter": "python",
   "pygments_lexer": "ipython3",
   "version": "3.6.5"
  }
 },
 "nbformat": 4,
 "nbformat_minor": 2
}
