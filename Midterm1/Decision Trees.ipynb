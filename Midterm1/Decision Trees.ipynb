{
 "cells": [
  {
   "cell_type": "markdown",
   "metadata": {},
   "source": [
    "# Decision Trees"
   ]
  },
  {
   "cell_type": "markdown",
   "metadata": {},
   "source": [
    "Classification - task of assigning objects to one of several categories   \n",
    "Predictive modeling - used to predict the class label of unknown records   \n",
    "Descriptive modeling - explain, describe, summarize data"
   ]
  },
  {
   "cell_type": "markdown",
   "metadata": {},
   "source": [
    "## How decision trees work"
   ]
  },
  {
   "cell_type": "markdown",
   "metadata": {},
   "source": [
    "Each leaf node is assigned a class label. Generally constructed using a greedy algorithm"
   ]
  },
  {
   "cell_type": "markdown",
   "metadata": {},
   "source": [
    "## Hunt's algorithm"
   ]
  },
  {
   "cell_type": "markdown",
   "metadata": {},
   "source": [
    "1. If all labels in record belong to the same class, then t is a leaf node.\n",
    "2. Otherwise, an attribute test condition is selected to partition the records into smaller subsets"
   ]
  },
  {
   "cell_type": "markdown",
   "metadata": {},
   "source": [
    "Splitting attributes is more difficult. Four cases can exist\n",
    "1. Split by binary attributes (two values)\n",
    "2. nominal attributes - can have multiple values, but each set can be expressed in two ways\n",
    "3. ordinal attributes - can produce multiway splits\n",
    "4. continuous attributes - ranges of values"
   ]
  },
  {
   "cell_type": "markdown",
   "metadata": {},
   "source": [
    "Selecting the best split can be done based on the degree of impurityy of child nodes. Two common impurity measures are entropy and geni"
   ]
  },
  {
   "cell_type": "markdown",
   "metadata": {},
   "source": [
    "In order to determine the performace of a test condition, compare the impurity of the parent node before the split to the impurity of the child nodes. The larger the gain, the better the split."
   ]
  },
  {
   "cell_type": "markdown",
   "metadata": {},
   "source": [
    "### Characteristics of Decision Trees"
   ]
  },
  {
   "cell_type": "markdown",
   "metadata": {},
   "source": [
    "Constructing decision trees is comptationally inexpensive, classification of new records is fast.   \n",
    "Decision trees are easy to interpret and are robust to the presence of noise. Presence of redundant attributes does not affect accuracy.    \n",
    "Number of records becomes smaller as we traverse down the tree. However, the number of records ma ybe too smal to make a decision (known as data fragmentation)"
   ]
  },
  {
   "cell_type": "markdown",
   "metadata": {},
   "source": [
    "## Overfitting"
   ]
  },
  {
   "cell_type": "markdown",
   "metadata": {},
   "source": [
    "Errors created by classification model are divided ino two types: training and generalization errors.    \n",
    "Training errors are known as apparent errors or resubstitution errors (misclassification errors on training records)    \n",
    "Generalization error - misclassification on the test data set   "
   ]
  },
  {
   "cell_type": "markdown",
   "metadata": {},
   "source": [
    "holdout method - split data into train and test sets"
   ]
  },
  {
   "cell_type": "markdown",
   "metadata": {},
   "source": [
    "K fold cross validation - use a different fold of train and test data each iteration"
   ]
  },
  {
   "cell_type": "markdown",
   "metadata": {},
   "source": [
    "Overfitting - model that fits training data too well (higher generalization error)"
   ]
  },
  {
   "cell_type": "markdown",
   "metadata": {},
   "source": [
    "Pre-pruning - stop growing tree before it is fully grown    \n",
    "post-pruning - trim the tree after growing it    \n",
    "REP (reduced error pruning) - from the bottom up, for a node that has leaves as children, replace decision node with most popular class from training data   \n",
    "If prediction accuracy is not worse on the validation set, prune tree to this value  "
   ]
  },
  {
   "cell_type": "markdown",
   "metadata": {},
   "source": [
    "Use validation error to determine when to stop training"
   ]
  }
 ],
 "metadata": {
  "kernelspec": {
   "display_name": "Python 3",
   "language": "python",
   "name": "python3"
  },
  "language_info": {
   "codemirror_mode": {
    "name": "ipython",
    "version": 3
   },
   "file_extension": ".py",
   "mimetype": "text/x-python",
   "name": "python",
   "nbconvert_exporter": "python",
   "pygments_lexer": "ipython3",
   "version": "3.6.5"
  }
 },
 "nbformat": 4,
 "nbformat_minor": 2
}
